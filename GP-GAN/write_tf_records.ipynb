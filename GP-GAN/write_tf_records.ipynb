{
 "cells": [
  {
   "cell_type": "code",
   "execution_count": 1,
   "metadata": {},
   "outputs": [],
   "source": [
    "import os, glob\n",
    "import tensorflow as tf\n",
    "import cv2\n",
    "import numpy as np"
   ]
  },
  {
   "cell_type": "code",
   "execution_count": 2,
   "metadata": {},
   "outputs": [],
   "source": [
    "import matplotlib.pyplot as plt \n",
    "%matplotlib inline"
   ]
  },
  {
   "cell_type": "code",
   "execution_count": 3,
   "metadata": {},
   "outputs": [],
   "source": [
    "dataset_dir='/home/admin1/Programming/HIWI_MRT/gp-gan_augmentation/GP-GAN/DataBase/train_data'\n",
    "\n",
    "out_path_train='/home/admin1/Programming/HIWI_MRT/gp-gan_augmentation/GP-GAN/DataBase/train.tfrecords'\n",
    "out_path_val='/home/admin1/Programming/HIWI_MRT/gp-gan_augmentation/GP-GAN/DataBase/val.tfrecords'"
   ]
  },
  {
   "cell_type": "code",
   "execution_count": 4,
   "metadata": {},
   "outputs": [],
   "source": [
    "def _int64_feature(value):\n",
    "    \"\"\"\n",
    "    Wrapper for inserting int64 features into Example proto.\n",
    "    :param value:\n",
    "    :return:\n",
    "    \"\"\"\n",
    "    if not isinstance(value, list):\n",
    "        value = [value]\n",
    "    value_tmp = []\n",
    "    is_int = True\n",
    "    for val in value:\n",
    "        if not isinstance(val, int):\n",
    "            is_int = False\n",
    "            value_tmp.append(int(float(val)))\n",
    "    if not is_int:\n",
    "        value = value_tmp\n",
    "    return tf.train.Feature(int64_list=tf.train.Int64List(value=value))"
   ]
  },
  {
   "cell_type": "code",
   "execution_count": 5,
   "metadata": {},
   "outputs": [],
   "source": [
    "def _float_feature(value):\n",
    "    \"\"\"\n",
    "    Wrapper for inserting float features into Example proto.\n",
    "    :param value:\n",
    "    :return:\n",
    "    \"\"\"\n",
    "    if not isinstance(value, list):\n",
    "        value = [value]\n",
    "    value_tmp = []\n",
    "    is_float = True\n",
    "    for val in value:\n",
    "        if not isinstance(val, int):\n",
    "            is_float = False\n",
    "            value_tmp.append(float(val))\n",
    "    if is_float is False:\n",
    "        value = value_tmp\n",
    "    return tf.train.Feature(float_list=tf.train.FloatList(value=value))"
   ]
  },
  {
   "cell_type": "code",
   "execution_count": 6,
   "metadata": {},
   "outputs": [],
   "source": [
    "def _bytes_feature(value):\n",
    "    \"\"\"\n",
    "    Wrapper for inserting bytes features into Example proto.\n",
    "    :param value:\n",
    "    :return:\n",
    "    \"\"\"\n",
    "    if not isinstance(value, bytes):\n",
    "        if not isinstance(value, list):\n",
    "            value = value.encode('utf-8')\n",
    "        else:\n",
    "            value = [val.encode('utf-8') for val in value]\n",
    "    if not isinstance(value, list):\n",
    "        value = [value]\n",
    "    return tf.train.Feature(bytes_list=tf.train.BytesList(value=value))"
   ]
  },
  {
   "cell_type": "code",
   "execution_count": 7,
   "metadata": {},
   "outputs": [],
   "source": [
    "def create_tf_example(encoded_image_data_cp, encoded_image_data_bg):\n",
    "\n",
    "    image_format = b'jpg'\n",
    "\n",
    "    height, width, _ = encoded_image_data_cp.shape\n",
    "    encoded_image_data_cp = encoded_image_data_cp.tostring()\n",
    "    encoded_image_data_bg = encoded_image_data_bg.tostring()\n",
    "\n",
    "    feature_dict = {\n",
    "        'image/height': _int64_feature(height),\n",
    "        'image/width': _int64_feature(width),\n",
    "        'image/encoded_cp': _bytes_feature(encoded_image_data_cp),\n",
    "        'image/encoded_bg': _bytes_feature(encoded_image_data_bg),\n",
    "        'image/format': _bytes_feature(image_format)\n",
    "    }\n",
    "\n",
    "    tf_example = tf.train.Example(features=tf.train.Features(feature=feature_dict))\n",
    "\n",
    "    return tf_example"
   ]
  },
  {
   "cell_type": "code",
   "execution_count": 8,
   "metadata": {},
   "outputs": [],
   "source": [
    "def create_copy_pastes(src_paths, writer, process_name):\n",
    "    dataset_size = len(src_paths)\n",
    "    id_data = 1\n",
    "    print(\" %s start \" % process_name)\n",
    "    for src_path in src_paths:\n",
    "        src_name = src_path.split('/')[-1]\n",
    "        dst_path = os.path.join(dataset_dir,'dst',src_name)\n",
    "        \n",
    "        src = cv2.cvtColor(cv2.imread(src_path), cv2.COLOR_BGR2RGB)  \n",
    "        dst = cv2.cvtColor(cv2.imread(dst_path), cv2.COLOR_BGR2RGB)  \n",
    "\n",
    "        tf_example = create_tf_example(src, dst)\n",
    "        writer.write(tf_example.SerializeToString())\n",
    "        \n",
    "        print(\"------------------- %s rest --------------------\" % (dataset_size - id_data))\n",
    "        id_data += 1"
   ]
  },
  {
   "cell_type": "code",
   "execution_count": 9,
   "metadata": {},
   "outputs": [],
   "source": [
    "def main():\n",
    "    val_ratio = 0.2\n",
    "\n",
    "    writer_train = tf.python_io.TFRecordWriter(out_path_train)\n",
    "    writer_val = tf.python_io.TFRecordWriter(out_path_val)\n",
    "\n",
    "    src_paths = glob.glob(os.path.join(dataset_dir,'src','*.jpg'))\n",
    "    \n",
    "    val_end = int(val_ratio * len(src_paths))\n",
    "\n",
    "    create_copy_pastes(src_paths[val_end:], writer_train, 'Train')\n",
    "    writer_train.close()\n",
    "\n",
    "    create_copy_pastes(src_paths[:val_end], writer_val, 'Val')\n",
    "    writer_val.close()"
   ]
  },
  {
   "cell_type": "code",
   "execution_count": 10,
   "metadata": {},
   "outputs": [
    {
     "name": "stdout",
     "output_type": "stream",
     "text": [
      " Train start \n",
      "------------------- 24 rest --------------------\n",
      "------------------- 23 rest --------------------\n",
      "------------------- 22 rest --------------------\n",
      "------------------- 21 rest --------------------\n",
      "------------------- 20 rest --------------------\n",
      "------------------- 19 rest --------------------\n",
      "------------------- 18 rest --------------------\n",
      "------------------- 17 rest --------------------\n",
      "------------------- 16 rest --------------------\n",
      "------------------- 15 rest --------------------\n",
      "------------------- 14 rest --------------------\n",
      "------------------- 13 rest --------------------\n",
      "------------------- 12 rest --------------------\n",
      "------------------- 11 rest --------------------\n",
      "------------------- 10 rest --------------------\n",
      "------------------- 9 rest --------------------\n",
      "------------------- 8 rest --------------------\n",
      "------------------- 7 rest --------------------\n",
      "------------------- 6 rest --------------------\n",
      "------------------- 5 rest --------------------\n",
      "------------------- 4 rest --------------------\n",
      "------------------- 3 rest --------------------\n",
      "------------------- 2 rest --------------------\n",
      "------------------- 1 rest --------------------\n",
      "------------------- 0 rest --------------------\n",
      " Val start \n",
      "------------------- 5 rest --------------------\n",
      "------------------- 4 rest --------------------\n",
      "------------------- 3 rest --------------------\n",
      "------------------- 2 rest --------------------\n",
      "------------------- 1 rest --------------------\n",
      "------------------- 0 rest --------------------\n"
     ]
    },
    {
     "name": "stderr",
     "output_type": "stream",
     "text": [
      "/home/admin1/Programming/Django/env_dj/lib/python3.6/site-packages/ipykernel_launcher.py:6: DeprecationWarning: tostring() is deprecated. Use tobytes() instead.\n",
      "  \n",
      "/home/admin1/Programming/Django/env_dj/lib/python3.6/site-packages/ipykernel_launcher.py:7: DeprecationWarning: tostring() is deprecated. Use tobytes() instead.\n",
      "  import sys\n"
     ]
    }
   ],
   "source": [
    "if __name__ == '__main__':\n",
    "    main()"
   ]
  },
  {
   "cell_type": "code",
   "execution_count": null,
   "metadata": {},
   "outputs": [],
   "source": []
  }
 ],
 "metadata": {
  "kernelspec": {
   "display_name": "env_dj",
   "language": "python",
   "name": "env_dj"
  },
  "language_info": {
   "codemirror_mode": {
    "name": "ipython",
    "version": 3
   },
   "file_extension": ".py",
   "mimetype": "text/x-python",
   "name": "python",
   "nbconvert_exporter": "python",
   "pygments_lexer": "ipython3",
   "version": "3.6.8"
  }
 },
 "nbformat": 4,
 "nbformat_minor": 2
}
