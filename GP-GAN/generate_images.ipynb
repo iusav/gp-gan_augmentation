{
 "cells": [
  {
   "cell_type": "markdown",
   "metadata": {},
   "source": [
    "# **Source & destination image creating**"
   ]
  },
  {
   "cell_type": "code",
   "execution_count": 1,
   "metadata": {},
   "outputs": [],
   "source": [
    "import cv2\n",
    "import numpy as np\n",
    "import os, glob\n",
    "import time\n",
    "import json\n",
    "from tqdm import tqdm\n",
    "import random"
   ]
  },
  {
   "cell_type": "code",
   "execution_count": 2,
   "metadata": {},
   "outputs": [],
   "source": [
    "import matplotlib.pyplot as plt \n",
    "%matplotlib inline"
   ]
  },
  {
   "cell_type": "code",
   "execution_count": 13,
   "metadata": {},
   "outputs": [],
   "source": [
    "dataset_size = 31\n",
    "img_shape = 64\n",
    "dataset_dir = '/home/admin1/Document/CITYSCAPES_DATASET'   \n",
    "save_dir = '/home/admin1/Programming/HIWI_MRT/gp-gan_augmentation/GP-GAN/DataBase'    \n",
    "\n",
    "highBrightness_value = 50\n",
    "lowBrightness_value = -50\n",
    "\n",
    "highContrast_value = 30\n",
    "lowContrast_value = -30"
   ]
  },
  {
   "cell_type": "markdown",
   "metadata": {},
   "source": [
    "### Creating of data path list with \"person\" class"
   ]
  },
  {
   "cell_type": "code",
   "execution_count": 14,
   "metadata": {},
   "outputs": [],
   "source": [
    "def path_creater(json_path):\n",
    "    data_name = '_'.join(json_path.split('/')[-1].split('_')[:-2])\n",
    "    mask_dir = '/'.join(json_path.split('/')[:-1])\n",
    "    img_dir =  mask_dir.replace('gtFine_trainvaltest/gtFine', 'leftImg8bit_trainvaltest/leftImg8bit')\n",
    "    mask_path = os.path.join(mask_dir, str(data_name) + '_gtFine_labelIds.png')\n",
    "    img_path = os.path.join(img_dir, str(data_name) + '_leftImg8bit.png')\n",
    "    \n",
    "    return img_path, mask_path"
   ]
  },
  {
   "cell_type": "code",
   "execution_count": 15,
   "metadata": {},
   "outputs": [],
   "source": [
    "def path_list_creater():\n",
    "    data_counter = 0\n",
    "    class_data_counter = 0\n",
    "\n",
    "    class_data_list = []\n",
    "    json_paths = glob.glob(os.path.join(dataset_dir,'gtFine_trainvaltest','gtFine','*','*','*.json'))\n",
    "\n",
    "    for json_path in tqdm(json_paths, total=len(json_paths)):  \n",
    "        with open(json_path) as json_file:\n",
    "            json_data = json.load(json_file) \n",
    "            obj_key = 'objects'\n",
    "            if obj_key in  json_data:\n",
    "                class_list =[label['label'] for label in json_data[obj_key]]\n",
    "                if 'person' in class_list:\n",
    "                    img_path, mask_path = path_creater(json_path)\n",
    "                    act_data = [img_path, mask_path]\n",
    "                    class_data_list.append(act_data)\n",
    "                    class_data_counter += 1\n",
    "\n",
    "        data_counter += 1\n",
    "\n",
    "    print('%s images with class \"Person\" in the dataset' % (class_data_counter))\n",
    "    print(\"The cityscapes dataset consists of %s images\" % (data_counter))\n",
    "    \n",
    "    return class_data_list"
   ]
  },
  {
   "cell_type": "markdown",
   "metadata": {},
   "source": [
    "### Dataset creating"
   ]
  },
  {
   "cell_type": "code",
   "execution_count": 16,
   "metadata": {},
   "outputs": [],
   "source": [
    "def data_name(path): \n",
    "    name = '_'.join(path[1].split('/')[-1].split('_')[:-2])\n",
    "    \n",
    "    return name"
   ]
  },
  {
   "cell_type": "code",
   "execution_count": 17,
   "metadata": {},
   "outputs": [],
   "source": [
    "def data_loader(path):    \n",
    "    img_path = path[0]; mask_path = path[1]\n",
    "     \n",
    "    img = cv2.imread(img_path); img = cv2.cvtColor(img, cv2.COLOR_BGR2RGB)\n",
    "    mask = cv2.imread(mask_path); mask = cv2.cvtColor(mask, cv2.COLOR_BGR2RGB)\n",
    "    \n",
    "    return img, mask "
   ]
  },
  {
   "cell_type": "code",
   "execution_count": 18,
   "metadata": {},
   "outputs": [],
   "source": [
    "def data_saver(data_name, dst, src, id_data):\n",
    "    dst = cv2.cvtColor(dst, cv2.COLOR_RGB2BGR)\n",
    "    src = cv2.cvtColor(src, cv2.COLOR_RGB2BGR)\n",
    "    \n",
    "    dst_path = os.path.join(save_dir,'train_data', 'dst', data_name + '_' + str(id_data) + '.jpg')\n",
    "    src_path = os.path.join(save_dir,'train_data', 'src', data_name + '_' + str(id_data) +'.jpg')\n",
    "    \n",
    "    cv2.imwrite(dst_path, dst)\n",
    "    cv2.imwrite(src_path, src)"
   ]
  },
  {
   "cell_type": "code",
   "execution_count": 19,
   "metadata": {},
   "outputs": [],
   "source": [
    "# Augmentation\n",
    "def brightness_contrast(img, hBrightness, lBrightness, hContrast, lContrast):   \n",
    "    \n",
    "    brightness = random.randint(lBrightness, hBrightness)\n",
    "    contrast = random.randint(lContrast, hContrast)\n",
    "    if brightness != 0:\n",
    "        if brightness > 0:\n",
    "            shadow = brightness\n",
    "            highlight = 255\n",
    "        else:\n",
    "            shadow = 0\n",
    "            highlight = 255 + brightness\n",
    "        alpha_b = (highlight - shadow) / 255\n",
    "        gamma_b = shadow\n",
    "\n",
    "        buf = cv2.addWeighted(img, alpha_b, img, 0, gamma_b)\n",
    "    else:\n",
    "        buf = img.copy()\n",
    "\n",
    "    if contrast != 0:\n",
    "        f = 131 * (contrast + 127) / (127 * (131 - contrast))\n",
    "        alpha_c = f\n",
    "        gamma_c = 127 * (1 - f)\n",
    "\n",
    "        buf = cv2.addWeighted(buf, alpha_c, buf, 0, gamma_c)\n",
    "\n",
    "    return buf\n",
    "\n",
    "\n",
    "def srcImg_creater(img, mask):\n",
    "    \n",
    "    thresh_mask = np.where(mask == person_value, 255, 0).astype(np.uint8)\n",
    "    gray_mask = cv2.cvtColor(thresh_mask, cv2.COLOR_RGB2GRAY)\n",
    "    \n",
    "    obj_contours, obj_hierarchy = cv2.findContours(gray_mask, cv2.RETR_TREE, cv2.CHAIN_APPROX_SIMPLE)\n",
    "    \n",
    "    obj_areas = np.array([cv2.contourArea(obj_contour) for obj_contour in obj_contours]).astype(np.int)\n",
    "    \n",
    "    if any(obj_areas):\n",
    "        person_ids = np.where(obj_areas > 0)[0].astype(np.int)\n",
    "\n",
    "        new_img = img.copy()\n",
    "        for person_id in person_ids:\n",
    "\n",
    "            obj_mask = np.full((mask.shape[0], mask.shape[1]), 0, np.uint8)\n",
    "\n",
    "            obj_mask = cv2.drawContours(obj_mask, obj_contours, contourIdx=person_id, color=255, thickness=-1)\n",
    "            obj_mask = cv2.cvtColor(obj_mask, cv2.COLOR_GRAY2RGB)\n",
    "\n",
    "            augment_img = brightness_contrast(img,\n",
    "                                              hBrightness = highBrightness_value,\n",
    "                                              lBrightness = lowBrightness_value,\n",
    "                                              hContrast = highContrast_value,\n",
    "                                              lContrast = lowContrast_value)\n",
    "            new_img = np.where((obj_mask == 255), augment_img, new_img)\n",
    "\n",
    "        return new_img\n",
    "    else:\n",
    "        return 'None'"
   ]
  },
  {
   "cell_type": "code",
   "execution_count": 20,
   "metadata": {},
   "outputs": [],
   "source": [
    "def save_folder_creater(save_dir):\n",
    "    dst_fold_path = os.path.join(save_dir, 'train_data', 'dst')\n",
    "    src_fold_path = os.path.join(save_dir, 'train_data', 'src')\n",
    "    \n",
    "    if not os.path.isdir(dst_fold_path):\n",
    "        os.makedirs(dst_fold_path)\n",
    "    if not os.path.isdir(src_fold_path):\n",
    "        os.makedirs(src_fold_path)"
   ]
  },
  {
   "cell_type": "code",
   "execution_count": 21,
   "metadata": {},
   "outputs": [],
   "source": [
    "def data_resizer(Img, Mask, shape):\n",
    "    w = shape; h = shape\n",
    "    Img = cv2.resize(Img, (w, h), interpolation=cv2.INTER_AREA)\n",
    "    Mask = cv2.resize(Mask, (w, h), interpolation=cv2.INTER_NEAREST)  \n",
    "    \n",
    "    return Img, Mask"
   ]
  },
  {
   "cell_type": "code",
   "execution_count": 22,
   "metadata": {},
   "outputs": [
    {
     "name": "stderr",
     "output_type": "stream",
     "text": [
      "100%|██████████| 5000/5000 [00:04<00:00, 1128.83it/s] \n"
     ]
    },
    {
     "name": "stdout",
     "output_type": "stream",
     "text": [
      "2728 images with class \"Person\" in the dataset\n",
      "The cityscapes dataset consists of 5000 images\n",
      "------------------- 30 rest --------------------\n",
      "------------------- 29 rest --------------------\n",
      "------------------- 28 rest --------------------\n",
      "------------------- 27 rest --------------------\n",
      "------------------- 26 rest --------------------\n",
      "------------------- 25 rest --------------------\n",
      "------------------- 24 rest --------------------\n",
      "------------------- 23 rest --------------------\n",
      "------------------- 22 rest --------------------\n",
      "------------------- 21 rest --------------------\n",
      "------------------- 20 rest --------------------\n",
      "------------------- 19 rest --------------------\n",
      "------------------- 18 rest --------------------\n",
      "------------------- 17 rest --------------------\n",
      "------------------- 16 rest --------------------\n",
      "------------------- 15 rest --------------------\n",
      "------------------- 14 rest --------------------\n",
      "------------------- 13 rest --------------------\n",
      "------------------- 12 rest --------------------\n",
      "------------------- 11 rest --------------------\n",
      "------------------- 10 rest --------------------\n",
      "------------------- 9 rest --------------------\n",
      "------------------- 8 rest --------------------\n",
      "------------------- 7 rest --------------------\n",
      "------------------- 6 rest --------------------\n",
      "------------------- 5 rest --------------------\n",
      "------------------- 4 rest --------------------\n",
      "------------------- 3 rest --------------------\n",
      "------------------- 2 rest --------------------\n",
      "------------------- 1 rest --------------------\n",
      "------------------- 0 rest --------------------\n",
      "----------------- 7.74 seconds ----------------\n"
     ]
    }
   ],
   "source": [
    "if __name__ == '__main__':\n",
    "    # https://github.com/mcordts/cityscapesScripts/blob/master/cityscapesscripts/helpers/labels.py\n",
    "    # |    name    |  id  |\n",
    "    # _____________________\n",
    "    # |  'person'  | 24   |\n",
    "    person_value = 24\n",
    "    \n",
    "    id_data = 1\n",
    "    \n",
    "    save_folder_creater(save_dir)\n",
    "    img_paths = path_list_creater()\n",
    "    \n",
    "    start_time = time.time()\n",
    "    while  (id_data <= dataset_size):\n",
    "        \n",
    "        #try:\n",
    "        currentImg_path = random.choice(img_paths)\n",
    "\n",
    "        # Data name chosing\n",
    "        imgName = data_name(currentImg_path)\n",
    "\n",
    "        # Data loading\n",
    "        dstImg, dstMask = data_loader(currentImg_path)\n",
    "\n",
    "        # Data resizing\n",
    "        dstImg, dstMask = data_resizer(dstImg, dstMask, img_shape)\n",
    "\n",
    "        # Source image creating\n",
    "        srcImg = srcImg_creater(dstImg, dstMask)\n",
    "        if srcImg is 'None':\n",
    "            continue\n",
    "\n",
    "        # Data resizing\n",
    "        #dstImg, srcImg = data_resizer(dstImg, srcImg)\n",
    "\n",
    "        # Data saving \n",
    "        data_saver(imgName, dstImg, srcImg, id_data)\n",
    "\n",
    "        print(\"------------------- %s rest --------------------\" % (dataset_size - id_data))\n",
    "        id_data += 1\n",
    "        #except:\n",
    "        #    print(\"!!! ERROR   %s   ERROR !!!\" % currentImg_path)\n",
    "        #    continue\n",
    "        \n",
    "    print(\"----------------- %s seconds ----------------\" % ( round((time.time() - start_time), 2) ))"
   ]
  },
  {
   "cell_type": "code",
   "execution_count": null,
   "metadata": {},
   "outputs": [],
   "source": []
  },
  {
   "cell_type": "code",
   "execution_count": null,
   "metadata": {},
   "outputs": [],
   "source": []
  }
 ],
 "metadata": {
  "kernelspec": {
   "display_name": "env_dj",
   "language": "python",
   "name": "env_dj"
  },
  "language_info": {
   "codemirror_mode": {
    "name": "ipython",
    "version": 3
   },
   "file_extension": ".py",
   "mimetype": "text/x-python",
   "name": "python",
   "nbconvert_exporter": "python",
   "pygments_lexer": "ipython3",
   "version": "3.6.8"
  }
 },
 "nbformat": 4,
 "nbformat_minor": 2
}
